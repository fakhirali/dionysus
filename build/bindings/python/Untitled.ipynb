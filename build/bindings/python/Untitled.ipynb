{
 "cells": [
  {
   "cell_type": "code",
   "execution_count": 2,
   "metadata": {},
   "outputs": [
    {
     "name": "stderr",
     "output_type": "stream",
     "text": [
      "[nltk_data] Downloading package punkt to /home/fairall/nltk_data...\n",
      "[nltk_data]   Package punkt is already up-to-date!\n",
      "[nltk_data] Downloading package stopwords to\n",
      "[nltk_data]     /home/fairall/nltk_data...\n",
      "[nltk_data]   Package stopwords is already up-to-date!\n"
     ]
    }
   ],
   "source": [
    "import nltk\n",
    "from nltk.tokenize import sent_tokenize, word_tokenize\n",
    "from nltk.corpus import stopwords\n",
    "nltk.download('punkt')\n",
    "nltk.download('stopwords')\n",
    "import warnings\n",
    "import dionysus as d\n",
    "import numpy as np"
   ]
  },
  {
   "cell_type": "code",
   "execution_count": 4,
   "metadata": {},
   "outputs": [
    {
     "name": "stderr",
     "output_type": "stream",
     "text": [
      "/usr/lib/python3/dist-packages/requests/__init__.py:89: RequestsDependencyWarning: urllib3 (1.26.7) or chardet (3.0.4) doesn't match a supported version!\n",
      "  warnings.warn(\"urllib3 ({}) or chardet ({}) doesn't match a supported \"\n"
     ]
    }
   ],
   "source": [
    "import gensim\n",
    "import gensim.downloader\n",
    "from gensim.models import Word2Vec"
   ]
  },
  {
   "cell_type": "code",
   "execution_count": 5,
   "metadata": {},
   "outputs": [
    {
     "name": "stdout",
     "output_type": "stream",
     "text": [
      "Filtration with 59 simplices\n",
      "<0> 0\n",
      "<1> 0\n",
      "<2> 0\n",
      "<3> 0\n",
      "<4> 0\n",
      "<5> 0\n",
      "<6> 0\n",
      "<7> 0\n",
      "<8> 0\n",
      "<9> 0\n",
      "<0,9> 0.060511\n",
      "<6,7> 0.121377\n",
      "<4,7> 0.121626\n",
      "<8,9> 0.153796\n",
      "<1,8> 0.154134\n",
      "<0,8> 0.165269\n",
      "<0,8,9> 0.165269\n",
      "<0,6> 0.168024\n",
      "<4,6> 0.171829\n",
      "<4,6,7> 0.171829\n",
      "<6,9> 0.178587\n",
      "<0,6,9> 0.178587\n",
      "<0,7> 0.207281\n",
      "<0,6,7> 0.207281\n",
      "<7,9> 0.215931\n",
      "<0,7,9> 0.215931\n",
      "<6,7,9> 0.215931\n",
      "<1,9> 0.217739\n",
      "<1,8,9> 0.217739\n",
      "<0,1> 0.22599\n",
      "<0,1,8> 0.22599\n",
      "<0,1,9> 0.22599\n",
      "<6,8> 0.235683\n",
      "<0,6,8> 0.235683\n",
      "<6,8,9> 0.235683\n",
      "<0,4> 0.240328\n",
      "<0,4,6> 0.240328\n",
      "<0,4,7> 0.240328\n",
      "<4,9> 0.247827\n",
      "<0,4,9> 0.247827\n",
      "<4,6,9> 0.247827\n",
      "<4,7,9> 0.247827\n",
      "<1,5> 0.248544\n",
      "<3,5> 0.258273\n",
      "<7,8> 0.265102\n",
      "<0,7,8> 0.265102\n",
      "<6,7,8> 0.265102\n",
      "<7,8,9> 0.265102\n",
      "<1,6> 0.281609\n",
      "<0,1,6> 0.281609\n",
      "<1,6,8> 0.281609\n",
      "<1,6,9> 0.281609\n",
      "<4,8> 0.29167\n",
      "<0,4,8> 0.29167\n",
      "<4,6,8> 0.29167\n",
      "<4,7,8> 0.29167\n",
      "<4,8,9> 0.29167\n",
      "<5,8> 0.292458\n",
      "<1,5,8> 0.292458\n"
     ]
    }
   ],
   "source": [
    "points = np.random.random((10,2))\n",
    "f = d.fill_rips(points, 2, .3)\n",
    "print(f)\n",
    "\n",
    "for s in f:\n",
    "    print(s)"
   ]
  },
  {
   "cell_type": "code",
   "execution_count": null,
   "metadata": {},
   "outputs": [],
   "source": []
  }
 ],
 "metadata": {
  "kernelspec": {
   "display_name": "Python 3",
   "language": "python",
   "name": "python3"
  },
  "language_info": {
   "codemirror_mode": {
    "name": "ipython",
    "version": 3
   },
   "file_extension": ".py",
   "mimetype": "text/x-python",
   "name": "python",
   "nbconvert_exporter": "python",
   "pygments_lexer": "ipython3",
   "version": "3.8.10"
  }
 },
 "nbformat": 4,
 "nbformat_minor": 4
}
